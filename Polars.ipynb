{
  "nbformat": 4,
  "nbformat_minor": 0,
  "metadata": {
    "colab": {
      "provenance": [],
      "authorship_tag": "ABX9TyPhAtC0sMLvrUO50qjbLz3t",
      "include_colab_link": true
    },
    "kernelspec": {
      "name": "python3",
      "display_name": "Python 3"
    },
    "language_info": {
      "name": "python"
    }
  },
  "cells": [
    {
      "cell_type": "markdown",
      "metadata": {
        "id": "view-in-github",
        "colab_type": "text"
      },
      "source": [
        "<a href=\"https://colab.research.google.com/github/imranttsia/Data-visualization/blob/main/Polars.ipynb\" target=\"_parent\"><img src=\"https://colab.research.google.com/assets/colab-badge.svg\" alt=\"Open In Colab\"/></a>"
      ]
    },
    {
      "cell_type": "code",
      "execution_count": null,
      "metadata": {
        "colab": {
          "base_uri": "https://localhost:8080/",
          "height": 424
        },
        "id": "krid9qwAQ6CE",
        "outputId": "aa2a97e9-2727-411d-b3de-622fd93662f4"
      },
      "outputs": [
        {
          "output_type": "execute_result",
          "data": {
            "text/plain": [
              "     rollno    name  fname      course  city        dob  s1  s2  s3  s4  s5\n",
              "0         1    Asif  Hamza          DS   LHR 1960-09-16  98  69  86  17  61\n",
              "1         2    Asif  Hamza          AI  None 2009-01-07  16  47  56  19   6\n",
              "2         3    Asif   Asif          DS   LHR 1981-03-10   2  27  31  50  65\n",
              "3         4    Asif   Asif          DS  None 1953-05-07  18  75  17  66  31\n",
              "4         5     Ali   Asif          DS   KHI 1991-05-20  22  15   6  33  27\n",
              "..      ...     ...    ...         ...   ...        ...  ..  ..  ..  ..  ..\n",
              "995     996  Junaid   Asif          ML   LHR 1972-07-15  78  26  57  75  53\n",
              "996     997    Asif    Ali  Blockchain   KHI 1950-08-09  84  32  81  10  67\n",
              "997     998   Hamza    Ali          DS   ISL 1994-02-01  32  60  74   7  56\n",
              "998     999  Junaid  Hamza          DS   LHR 1951-02-06  50  68  73  50  91\n",
              "999    1000  Junaid    Ali          ML   KHI 2013-05-06  76  25  23  46  56\n",
              "\n",
              "[1000 rows x 11 columns]"
            ],
            "text/html": [
              "\n",
              "  <div id=\"df-40a6f1f8-d0aa-434f-a338-8741e7d621f8\">\n",
              "    <div class=\"colab-df-container\">\n",
              "      <div>\n",
              "<style scoped>\n",
              "    .dataframe tbody tr th:only-of-type {\n",
              "        vertical-align: middle;\n",
              "    }\n",
              "\n",
              "    .dataframe tbody tr th {\n",
              "        vertical-align: top;\n",
              "    }\n",
              "\n",
              "    .dataframe thead th {\n",
              "        text-align: right;\n",
              "    }\n",
              "</style>\n",
              "<table border=\"1\" class=\"dataframe\">\n",
              "  <thead>\n",
              "    <tr style=\"text-align: right;\">\n",
              "      <th></th>\n",
              "      <th>rollno</th>\n",
              "      <th>name</th>\n",
              "      <th>fname</th>\n",
              "      <th>course</th>\n",
              "      <th>city</th>\n",
              "      <th>dob</th>\n",
              "      <th>s1</th>\n",
              "      <th>s2</th>\n",
              "      <th>s3</th>\n",
              "      <th>s4</th>\n",
              "      <th>s5</th>\n",
              "    </tr>\n",
              "  </thead>\n",
              "  <tbody>\n",
              "    <tr>\n",
              "      <th>0</th>\n",
              "      <td>1</td>\n",
              "      <td>Asif</td>\n",
              "      <td>Hamza</td>\n",
              "      <td>DS</td>\n",
              "      <td>LHR</td>\n",
              "      <td>1960-09-16</td>\n",
              "      <td>98</td>\n",
              "      <td>69</td>\n",
              "      <td>86</td>\n",
              "      <td>17</td>\n",
              "      <td>61</td>\n",
              "    </tr>\n",
              "    <tr>\n",
              "      <th>1</th>\n",
              "      <td>2</td>\n",
              "      <td>Asif</td>\n",
              "      <td>Hamza</td>\n",
              "      <td>AI</td>\n",
              "      <td>None</td>\n",
              "      <td>2009-01-07</td>\n",
              "      <td>16</td>\n",
              "      <td>47</td>\n",
              "      <td>56</td>\n",
              "      <td>19</td>\n",
              "      <td>6</td>\n",
              "    </tr>\n",
              "    <tr>\n",
              "      <th>2</th>\n",
              "      <td>3</td>\n",
              "      <td>Asif</td>\n",
              "      <td>Asif</td>\n",
              "      <td>DS</td>\n",
              "      <td>LHR</td>\n",
              "      <td>1981-03-10</td>\n",
              "      <td>2</td>\n",
              "      <td>27</td>\n",
              "      <td>31</td>\n",
              "      <td>50</td>\n",
              "      <td>65</td>\n",
              "    </tr>\n",
              "    <tr>\n",
              "      <th>3</th>\n",
              "      <td>4</td>\n",
              "      <td>Asif</td>\n",
              "      <td>Asif</td>\n",
              "      <td>DS</td>\n",
              "      <td>None</td>\n",
              "      <td>1953-05-07</td>\n",
              "      <td>18</td>\n",
              "      <td>75</td>\n",
              "      <td>17</td>\n",
              "      <td>66</td>\n",
              "      <td>31</td>\n",
              "    </tr>\n",
              "    <tr>\n",
              "      <th>4</th>\n",
              "      <td>5</td>\n",
              "      <td>Ali</td>\n",
              "      <td>Asif</td>\n",
              "      <td>DS</td>\n",
              "      <td>KHI</td>\n",
              "      <td>1991-05-20</td>\n",
              "      <td>22</td>\n",
              "      <td>15</td>\n",
              "      <td>6</td>\n",
              "      <td>33</td>\n",
              "      <td>27</td>\n",
              "    </tr>\n",
              "    <tr>\n",
              "      <th>...</th>\n",
              "      <td>...</td>\n",
              "      <td>...</td>\n",
              "      <td>...</td>\n",
              "      <td>...</td>\n",
              "      <td>...</td>\n",
              "      <td>...</td>\n",
              "      <td>...</td>\n",
              "      <td>...</td>\n",
              "      <td>...</td>\n",
              "      <td>...</td>\n",
              "      <td>...</td>\n",
              "    </tr>\n",
              "    <tr>\n",
              "      <th>995</th>\n",
              "      <td>996</td>\n",
              "      <td>Junaid</td>\n",
              "      <td>Asif</td>\n",
              "      <td>ML</td>\n",
              "      <td>LHR</td>\n",
              "      <td>1972-07-15</td>\n",
              "      <td>78</td>\n",
              "      <td>26</td>\n",
              "      <td>57</td>\n",
              "      <td>75</td>\n",
              "      <td>53</td>\n",
              "    </tr>\n",
              "    <tr>\n",
              "      <th>996</th>\n",
              "      <td>997</td>\n",
              "      <td>Asif</td>\n",
              "      <td>Ali</td>\n",
              "      <td>Blockchain</td>\n",
              "      <td>KHI</td>\n",
              "      <td>1950-08-09</td>\n",
              "      <td>84</td>\n",
              "      <td>32</td>\n",
              "      <td>81</td>\n",
              "      <td>10</td>\n",
              "      <td>67</td>\n",
              "    </tr>\n",
              "    <tr>\n",
              "      <th>997</th>\n",
              "      <td>998</td>\n",
              "      <td>Hamza</td>\n",
              "      <td>Ali</td>\n",
              "      <td>DS</td>\n",
              "      <td>ISL</td>\n",
              "      <td>1994-02-01</td>\n",
              "      <td>32</td>\n",
              "      <td>60</td>\n",
              "      <td>74</td>\n",
              "      <td>7</td>\n",
              "      <td>56</td>\n",
              "    </tr>\n",
              "    <tr>\n",
              "      <th>998</th>\n",
              "      <td>999</td>\n",
              "      <td>Junaid</td>\n",
              "      <td>Hamza</td>\n",
              "      <td>DS</td>\n",
              "      <td>LHR</td>\n",
              "      <td>1951-02-06</td>\n",
              "      <td>50</td>\n",
              "      <td>68</td>\n",
              "      <td>73</td>\n",
              "      <td>50</td>\n",
              "      <td>91</td>\n",
              "    </tr>\n",
              "    <tr>\n",
              "      <th>999</th>\n",
              "      <td>1000</td>\n",
              "      <td>Junaid</td>\n",
              "      <td>Ali</td>\n",
              "      <td>ML</td>\n",
              "      <td>KHI</td>\n",
              "      <td>2013-05-06</td>\n",
              "      <td>76</td>\n",
              "      <td>25</td>\n",
              "      <td>23</td>\n",
              "      <td>46</td>\n",
              "      <td>56</td>\n",
              "    </tr>\n",
              "  </tbody>\n",
              "</table>\n",
              "<p>1000 rows × 11 columns</p>\n",
              "</div>\n",
              "      <button class=\"colab-df-convert\" onclick=\"convertToInteractive('df-40a6f1f8-d0aa-434f-a338-8741e7d621f8')\"\n",
              "              title=\"Convert this dataframe to an interactive table.\"\n",
              "              style=\"display:none;\">\n",
              "        \n",
              "  <svg xmlns=\"http://www.w3.org/2000/svg\" height=\"24px\"viewBox=\"0 0 24 24\"\n",
              "       width=\"24px\">\n",
              "    <path d=\"M0 0h24v24H0V0z\" fill=\"none\"/>\n",
              "    <path d=\"M18.56 5.44l.94 2.06.94-2.06 2.06-.94-2.06-.94-.94-2.06-.94 2.06-2.06.94zm-11 1L8.5 8.5l.94-2.06 2.06-.94-2.06-.94L8.5 2.5l-.94 2.06-2.06.94zm10 10l.94 2.06.94-2.06 2.06-.94-2.06-.94-.94-2.06-.94 2.06-2.06.94z\"/><path d=\"M17.41 7.96l-1.37-1.37c-.4-.4-.92-.59-1.43-.59-.52 0-1.04.2-1.43.59L10.3 9.45l-7.72 7.72c-.78.78-.78 2.05 0 2.83L4 21.41c.39.39.9.59 1.41.59.51 0 1.02-.2 1.41-.59l7.78-7.78 2.81-2.81c.8-.78.8-2.07 0-2.86zM5.41 20L4 18.59l7.72-7.72 1.47 1.35L5.41 20z\"/>\n",
              "  </svg>\n",
              "      </button>\n",
              "      \n",
              "  <style>\n",
              "    .colab-df-container {\n",
              "      display:flex;\n",
              "      flex-wrap:wrap;\n",
              "      gap: 12px;\n",
              "    }\n",
              "\n",
              "    .colab-df-convert {\n",
              "      background-color: #E8F0FE;\n",
              "      border: none;\n",
              "      border-radius: 50%;\n",
              "      cursor: pointer;\n",
              "      display: none;\n",
              "      fill: #1967D2;\n",
              "      height: 32px;\n",
              "      padding: 0 0 0 0;\n",
              "      width: 32px;\n",
              "    }\n",
              "\n",
              "    .colab-df-convert:hover {\n",
              "      background-color: #E2EBFA;\n",
              "      box-shadow: 0px 1px 2px rgba(60, 64, 67, 0.3), 0px 1px 3px 1px rgba(60, 64, 67, 0.15);\n",
              "      fill: #174EA6;\n",
              "    }\n",
              "\n",
              "    [theme=dark] .colab-df-convert {\n",
              "      background-color: #3B4455;\n",
              "      fill: #D2E3FC;\n",
              "    }\n",
              "\n",
              "    [theme=dark] .colab-df-convert:hover {\n",
              "      background-color: #434B5C;\n",
              "      box-shadow: 0px 1px 3px 1px rgba(0, 0, 0, 0.15);\n",
              "      filter: drop-shadow(0px 1px 2px rgba(0, 0, 0, 0.3));\n",
              "      fill: #FFFFFF;\n",
              "    }\n",
              "  </style>\n",
              "\n",
              "      <script>\n",
              "        const buttonEl =\n",
              "          document.querySelector('#df-40a6f1f8-d0aa-434f-a338-8741e7d621f8 button.colab-df-convert');\n",
              "        buttonEl.style.display =\n",
              "          google.colab.kernel.accessAllowed ? 'block' : 'none';\n",
              "\n",
              "        async function convertToInteractive(key) {\n",
              "          const element = document.querySelector('#df-40a6f1f8-d0aa-434f-a338-8741e7d621f8');\n",
              "          const dataTable =\n",
              "            await google.colab.kernel.invokeFunction('convertToInteractive',\n",
              "                                                     [key], {});\n",
              "          if (!dataTable) return;\n",
              "\n",
              "          const docLinkHtml = 'Like what you see? Visit the ' +\n",
              "            '<a target=\"_blank\" href=https://colab.research.google.com/notebooks/data_table.ipynb>data table notebook</a>'\n",
              "            + ' to learn more about interactive tables.';\n",
              "          element.innerHTML = '';\n",
              "          dataTable['output_type'] = 'display_data';\n",
              "          await google.colab.output.renderOutput(dataTable, element);\n",
              "          const docLink = document.createElement('div');\n",
              "          docLink.innerHTML = docLinkHtml;\n",
              "          element.appendChild(docLink);\n",
              "        }\n",
              "      </script>\n",
              "    </div>\n",
              "  </div>\n",
              "  "
            ]
          },
          "metadata": {},
          "execution_count": 7
        }
      ],
      "source": [
        "import pandas as pd\n",
        "import numpy as np\n",
        "\n",
        "def random_date():\n",
        "\n",
        "    month = np.random.randint(1,12)\n",
        "    if month==2:\n",
        "         day = np.random.randint(1,28)\n",
        "    else:\n",
        "         day = np.random.randint(1,31)\n",
        "    year  = np.random.randint(1950,2015)\n",
        "    dt = pd.to_datetime(f\"{year}-{month}-{day}\")\n",
        "    return dt\n",
        "\n",
        "random_date()\n",
        "\n",
        "\n",
        "\n",
        "no_of_records = 1000\n",
        "df1 = pd.DataFrame(\n",
        "    {\n",
        "        \"rollno\":np.arange(1,no_of_records+1),\n",
        "        'name': np.random.choice(['Ali','Hamza','Junaid',\"Asif\"],no_of_records),\n",
        "        'fname': np.random.choice(['Ali','Hamza','Junaid',\"Asif\"],no_of_records),\n",
        "        'course': np.random.choice(['AI','DS','ML',\"Blockchain\"],no_of_records),\n",
        "        'city': np.random.choice(['KHI','ISL','LHR',None],no_of_records),\n",
        "        'dob': [random_date() for i in range(no_of_records)],\n",
        "        's1': np.random.randint(1,100, no_of_records),\n",
        "        's2': np.random.randint(1,100, no_of_records),\n",
        "        's3': np.random.randint(1,100, no_of_records),\n",
        "        's4': np.random.randint(1,100, no_of_records),\n",
        "        's5': np.random.randint(1,100, no_of_records),\n",
        "\n",
        "\n",
        "    }\n",
        ")\n",
        "df1"
      ]
    },
    {
      "cell_type": "code",
      "source": [
        "import polars as pl"
      ],
      "metadata": {
        "id": "gv5XhMJPRuyu"
      },
      "execution_count": null,
      "outputs": []
    },
    {
      "cell_type": "code",
      "source": [
        "df2 = pl.DataFrame(df1)\n",
        "df2"
      ],
      "metadata": {
        "colab": {
          "base_uri": "https://localhost:8080/",
          "height": 882
        },
        "id": "MDgdxFCkRu3o",
        "outputId": "7fc7b7f6-c350-43a7-8f31-f8ce55cf2b05"
      },
      "execution_count": null,
      "outputs": [
        {
          "output_type": "execute_result",
          "data": {
            "text/plain": [
              "shape: (1_000, 11)\n",
              "┌────────┬────────┬────────┬────────────┬───┬─────┬─────┬─────┬─────┐\n",
              "│ rollno ┆ name   ┆ fname  ┆ course     ┆ … ┆ s2  ┆ s3  ┆ s4  ┆ s5  │\n",
              "│ ---    ┆ ---    ┆ ---    ┆ ---        ┆   ┆ --- ┆ --- ┆ --- ┆ --- │\n",
              "│ i64    ┆ str    ┆ str    ┆ str        ┆   ┆ i64 ┆ i64 ┆ i64 ┆ i64 │\n",
              "╞════════╪════════╪════════╪════════════╪═══╪═════╪═════╪═════╪═════╡\n",
              "│ 1      ┆ Hamza  ┆ Hamza  ┆ DS         ┆ … ┆ 24  ┆ 58  ┆ 53  ┆ 36  │\n",
              "│ 2      ┆ Asif   ┆ Hamza  ┆ ML         ┆ … ┆ 40  ┆ 86  ┆ 30  ┆ 48  │\n",
              "│ 3      ┆ Junaid ┆ Ali    ┆ ML         ┆ … ┆ 77  ┆ 69  ┆ 71  ┆ 60  │\n",
              "│ 4      ┆ Ali    ┆ Junaid ┆ AI         ┆ … ┆ 86  ┆ 5   ┆ 57  ┆ 15  │\n",
              "│ …      ┆ …      ┆ …      ┆ …          ┆ … ┆ …   ┆ …   ┆ …   ┆ …   │\n",
              "│ 997    ┆ Junaid ┆ Hamza  ┆ DS         ┆ … ┆ 26  ┆ 68  ┆ 20  ┆ 65  │\n",
              "│ 998    ┆ Ali    ┆ Ali    ┆ DS         ┆ … ┆ 62  ┆ 22  ┆ 62  ┆ 1   │\n",
              "│ 999    ┆ Junaid ┆ Asif   ┆ ML         ┆ … ┆ 53  ┆ 88  ┆ 16  ┆ 68  │\n",
              "│ 1000   ┆ Asif   ┆ Hamza  ┆ Blockchain ┆ … ┆ 30  ┆ 45  ┆ 9   ┆ 67  │\n",
              "└────────┴────────┴────────┴────────────┴───┴─────┴─────┴─────┴─────┘"
            ],
            "text/html": [
              "<div><style>\n",
              ".dataframe > thead > tr > th,\n",
              ".dataframe > tbody > tr > td {\n",
              "  text-align: right;\n",
              "}\n",
              "</style>\n",
              "<small>shape: (1000, 11)</small><table border=\"1\" class=\"dataframe\"><thead><tr><th>rollno</th><th>name</th><th>fname</th><th>course</th><th>city</th><th>dob</th><th>s1</th><th>s2</th><th>s3</th><th>s4</th><th>s5</th></tr><tr><td>i64</td><td>str</td><td>str</td><td>str</td><td>str</td><td>datetime[ns]</td><td>i64</td><td>i64</td><td>i64</td><td>i64</td><td>i64</td></tr></thead><tbody><tr><td>1</td><td>&quot;Hamza&quot;</td><td>&quot;Hamza&quot;</td><td>&quot;DS&quot;</td><td>null</td><td>1950-08-07 00:00:00</td><td>25</td><td>24</td><td>58</td><td>53</td><td>36</td></tr><tr><td>2</td><td>&quot;Asif&quot;</td><td>&quot;Hamza&quot;</td><td>&quot;ML&quot;</td><td>null</td><td>1987-04-16 00:00:00</td><td>78</td><td>40</td><td>86</td><td>30</td><td>48</td></tr><tr><td>3</td><td>&quot;Junaid&quot;</td><td>&quot;Ali&quot;</td><td>&quot;ML&quot;</td><td>&quot;KHI&quot;</td><td>1958-01-10 00:00:00</td><td>41</td><td>77</td><td>69</td><td>71</td><td>60</td></tr><tr><td>4</td><td>&quot;Ali&quot;</td><td>&quot;Junaid&quot;</td><td>&quot;AI&quot;</td><td>&quot;LHR&quot;</td><td>1980-07-13 00:00:00</td><td>26</td><td>86</td><td>5</td><td>57</td><td>15</td></tr><tr><td>5</td><td>&quot;Junaid&quot;</td><td>&quot;Hamza&quot;</td><td>&quot;AI&quot;</td><td>&quot;LHR&quot;</td><td>1953-02-21 00:00:00</td><td>3</td><td>83</td><td>54</td><td>41</td><td>65</td></tr><tr><td>6</td><td>&quot;Ali&quot;</td><td>&quot;Ali&quot;</td><td>&quot;ML&quot;</td><td>null</td><td>1995-11-21 00:00:00</td><td>96</td><td>93</td><td>90</td><td>6</td><td>1</td></tr><tr><td>7</td><td>&quot;Hamza&quot;</td><td>&quot;Ali&quot;</td><td>&quot;Blockchain&quot;</td><td>&quot;ISL&quot;</td><td>1969-09-04 00:00:00</td><td>4</td><td>67</td><td>14</td><td>61</td><td>27</td></tr><tr><td>8</td><td>&quot;Ali&quot;</td><td>&quot;Junaid&quot;</td><td>&quot;DS&quot;</td><td>&quot;KHI&quot;</td><td>1970-03-04 00:00:00</td><td>15</td><td>58</td><td>87</td><td>93</td><td>6</td></tr><tr><td>9</td><td>&quot;Asif&quot;</td><td>&quot;Hamza&quot;</td><td>&quot;Blockchain&quot;</td><td>&quot;KHI&quot;</td><td>1964-01-18 00:00:00</td><td>56</td><td>72</td><td>34</td><td>92</td><td>88</td></tr><tr><td>10</td><td>&quot;Hamza&quot;</td><td>&quot;Ali&quot;</td><td>&quot;DS&quot;</td><td>&quot;KHI&quot;</td><td>2002-05-15 00:00:00</td><td>28</td><td>83</td><td>4</td><td>75</td><td>1</td></tr><tr><td>11</td><td>&quot;Asif&quot;</td><td>&quot;Asif&quot;</td><td>&quot;Blockchain&quot;</td><td>null</td><td>1972-10-03 00:00:00</td><td>13</td><td>25</td><td>33</td><td>25</td><td>63</td></tr><tr><td>12</td><td>&quot;Junaid&quot;</td><td>&quot;Hamza&quot;</td><td>&quot;AI&quot;</td><td>&quot;KHI&quot;</td><td>1969-08-15 00:00:00</td><td>9</td><td>17</td><td>33</td><td>49</td><td>66</td></tr><tr><td>&hellip;</td><td>&hellip;</td><td>&hellip;</td><td>&hellip;</td><td>&hellip;</td><td>&hellip;</td><td>&hellip;</td><td>&hellip;</td><td>&hellip;</td><td>&hellip;</td><td>&hellip;</td></tr><tr><td>989</td><td>&quot;Ali&quot;</td><td>&quot;Asif&quot;</td><td>&quot;Blockchain&quot;</td><td>null</td><td>1995-08-06 00:00:00</td><td>64</td><td>43</td><td>93</td><td>94</td><td>52</td></tr><tr><td>990</td><td>&quot;Ali&quot;</td><td>&quot;Ali&quot;</td><td>&quot;ML&quot;</td><td>null</td><td>1999-09-11 00:00:00</td><td>22</td><td>77</td><td>47</td><td>61</td><td>33</td></tr><tr><td>991</td><td>&quot;Junaid&quot;</td><td>&quot;Ali&quot;</td><td>&quot;AI&quot;</td><td>null</td><td>1972-05-27 00:00:00</td><td>65</td><td>4</td><td>50</td><td>34</td><td>67</td></tr><tr><td>992</td><td>&quot;Ali&quot;</td><td>&quot;Asif&quot;</td><td>&quot;Blockchain&quot;</td><td>&quot;LHR&quot;</td><td>1951-10-24 00:00:00</td><td>73</td><td>40</td><td>61</td><td>29</td><td>19</td></tr><tr><td>993</td><td>&quot;Asif&quot;</td><td>&quot;Junaid&quot;</td><td>&quot;Blockchain&quot;</td><td>&quot;LHR&quot;</td><td>1987-05-30 00:00:00</td><td>1</td><td>90</td><td>66</td><td>96</td><td>32</td></tr><tr><td>994</td><td>&quot;Hamza&quot;</td><td>&quot;Hamza&quot;</td><td>&quot;AI&quot;</td><td>&quot;KHI&quot;</td><td>1953-03-16 00:00:00</td><td>19</td><td>47</td><td>29</td><td>34</td><td>62</td></tr><tr><td>995</td><td>&quot;Hamza&quot;</td><td>&quot;Hamza&quot;</td><td>&quot;AI&quot;</td><td>&quot;ISL&quot;</td><td>2008-05-28 00:00:00</td><td>67</td><td>88</td><td>23</td><td>12</td><td>60</td></tr><tr><td>996</td><td>&quot;Ali&quot;</td><td>&quot;Ali&quot;</td><td>&quot;ML&quot;</td><td>null</td><td>1955-11-23 00:00:00</td><td>50</td><td>81</td><td>67</td><td>82</td><td>30</td></tr><tr><td>997</td><td>&quot;Junaid&quot;</td><td>&quot;Hamza&quot;</td><td>&quot;DS&quot;</td><td>&quot;KHI&quot;</td><td>2014-04-25 00:00:00</td><td>64</td><td>26</td><td>68</td><td>20</td><td>65</td></tr><tr><td>998</td><td>&quot;Ali&quot;</td><td>&quot;Ali&quot;</td><td>&quot;DS&quot;</td><td>&quot;KHI&quot;</td><td>2000-08-15 00:00:00</td><td>75</td><td>62</td><td>22</td><td>62</td><td>1</td></tr><tr><td>999</td><td>&quot;Junaid&quot;</td><td>&quot;Asif&quot;</td><td>&quot;ML&quot;</td><td>&quot;KHI&quot;</td><td>1987-04-22 00:00:00</td><td>19</td><td>53</td><td>88</td><td>16</td><td>68</td></tr><tr><td>1000</td><td>&quot;Asif&quot;</td><td>&quot;Hamza&quot;</td><td>&quot;Blockchain&quot;</td><td>null</td><td>1995-05-02 00:00:00</td><td>59</td><td>30</td><td>45</td><td>9</td><td>67</td></tr></tbody></table></div>"
            ]
          },
          "metadata": {},
          "execution_count": 3
        }
      ]
    },
    {
      "cell_type": "markdown",
      "source": [
        "Polors function on dataframe"
      ],
      "metadata": {
        "id": "4L481OgqSXwH"
      }
    },
    {
      "cell_type": "code",
      "source": [
        "%%time\n",
        "def obtained(sub1,sub2,sub3,sub4,sub5):\n",
        "    return sub1+sub2+sub3+sub4+sub5\n",
        "\n",
        "df2[:,\"s1\":\"s5\"].apply(lambda x:obtained(*x))"
      ],
      "metadata": {
        "colab": {
          "base_uri": "https://localhost:8080/",
          "height": 917
        },
        "id": "hGwScj-_Ru6O",
        "outputId": "ddf7c2f2-ca59-478f-80df-72ddd46f1fe8"
      },
      "execution_count": null,
      "outputs": [
        {
          "output_type": "stream",
          "name": "stdout",
          "text": [
            "CPU times: user 2.21 ms, sys: 225 µs, total: 2.43 ms\n",
            "Wall time: 19.7 ms\n"
          ]
        },
        {
          "output_type": "execute_result",
          "data": {
            "text/plain": [
              "shape: (1_000, 1)\n",
              "┌───────┐\n",
              "│ apply │\n",
              "│ ---   │\n",
              "│ i64   │\n",
              "╞═══════╡\n",
              "│ 196   │\n",
              "│ 282   │\n",
              "│ 318   │\n",
              "│ 189   │\n",
              "│ …     │\n",
              "│ 243   │\n",
              "│ 222   │\n",
              "│ 244   │\n",
              "│ 210   │\n",
              "└───────┘"
            ],
            "text/html": [
              "<div><style>\n",
              ".dataframe > thead > tr > th,\n",
              ".dataframe > tbody > tr > td {\n",
              "  text-align: right;\n",
              "}\n",
              "</style>\n",
              "<small>shape: (1000, 1)</small><table border=\"1\" class=\"dataframe\"><thead><tr><th>apply</th></tr><tr><td>i64</td></tr></thead><tbody><tr><td>196</td></tr><tr><td>282</td></tr><tr><td>318</td></tr><tr><td>189</td></tr><tr><td>246</td></tr><tr><td>286</td></tr><tr><td>173</td></tr><tr><td>259</td></tr><tr><td>342</td></tr><tr><td>191</td></tr><tr><td>159</td></tr><tr><td>174</td></tr><tr><td>&hellip;</td></tr><tr><td>346</td></tr><tr><td>240</td></tr><tr><td>220</td></tr><tr><td>222</td></tr><tr><td>285</td></tr><tr><td>191</td></tr><tr><td>250</td></tr><tr><td>310</td></tr><tr><td>243</td></tr><tr><td>222</td></tr><tr><td>244</td></tr><tr><td>210</td></tr></tbody></table></div>"
            ]
          },
          "metadata": {},
          "execution_count": 4
        }
      ]
    },
    {
      "cell_type": "code",
      "source": [
        "82+17+9+46+54"
      ],
      "metadata": {
        "colab": {
          "base_uri": "https://localhost:8080/"
        },
        "id": "shQ_SvmnRu-l",
        "outputId": "0671c7dd-b20c-49cf-dd07-9cf0f39bbc9b"
      },
      "execution_count": null,
      "outputs": [
        {
          "output_type": "execute_result",
          "data": {
            "text/plain": [
              "208"
            ]
          },
          "metadata": {},
          "execution_count": 5
        }
      ]
    },
    {
      "cell_type": "markdown",
      "source": [
        "pandas custome function"
      ],
      "metadata": {
        "id": "z70rs_sZTn9G"
      }
    },
    {
      "cell_type": "code",
      "source": [
        "%%time\n",
        "def obtained(sub1,sub2,sub3,sub4,sub5):\n",
        "    return sub1+sub2+sub3+sub4+sub5\n",
        "\n",
        "df1.loc[:,\"s1\":\"s5\"].apply(lambda x:obtained(*x), axis=1)"
      ],
      "metadata": {
        "colab": {
          "base_uri": "https://localhost:8080/"
        },
        "id": "Zxa-zSGyToot",
        "outputId": "1046b34b-f1f6-468f-db67-65bc32031c7d"
      },
      "execution_count": null,
      "outputs": [
        {
          "output_type": "stream",
          "name": "stdout",
          "text": [
            "CPU times: user 8.91 ms, sys: 0 ns, total: 8.91 ms\n",
            "Wall time: 8.86 ms\n"
          ]
        },
        {
          "output_type": "execute_result",
          "data": {
            "text/plain": [
              "0      331\n",
              "1      144\n",
              "2      175\n",
              "3      207\n",
              "4      103\n",
              "      ... \n",
              "995    289\n",
              "996    274\n",
              "997    229\n",
              "998    332\n",
              "999    226\n",
              "Length: 1000, dtype: int64"
            ]
          },
          "metadata": {},
          "execution_count": 8
        }
      ]
    }
  ]
}